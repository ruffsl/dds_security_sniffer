{
 "cells": [
  {
   "cell_type": "code",
   "execution_count": 1,
   "metadata": {},
   "outputs": [],
   "source": [
    "import hmac\n",
    "import hashlib\n",
    "import base64\n",
    "\n",
    "import bitarray\n",
    "import pybloom_live\n",
    "\n",
    "import xml.etree.ElementTree as ET\n",
    "from comarmor.xml.utils import beautify_xml"
   ]
  },
  {
   "cell_type": "code",
   "execution_count": 2,
   "metadata": {},
   "outputs": [],
   "source": [
    "def obscure_permissions(path, capacity=100, error_rate=0.001):\n",
    "    tree = ET.parse(path)\n",
    "    root = tree.getroot()\n",
    "#     root = ET.fromstring(path)\n",
    "    permissions = root.find('permissions')\n",
    "    for grant in permissions.findall('grant'):\n",
    "        obscure_grant(\n",
    "            grant,\n",
    "            capacity=capacity,\n",
    "            error_rate=error_rate)\n",
    "    return tree\n",
    "#     return ET.ElementTree(root)\n",
    "\n",
    "\n",
    "def obscure_grant(grant, capacity, error_rate):\n",
    "    subject_name = grant.find('subject_name')\n",
    "    for rule in grant.findall('*/domains/..'):\n",
    "        obscure_rule(\n",
    "            rule=rule,\n",
    "            capacity=capacity,\n",
    "            error_rate=error_rate)\n",
    "\n",
    "\n",
    "def obscure_rule(rule, capacity, error_rate):\n",
    "    obscure_topics(rule, capacity, error_rate)\n",
    "    obscure_partitions(rule, capacity, error_rate)\n",
    "    obscure_data_tags(rule, capacity, error_rate)\n",
    "\n",
    "\n",
    "def obscure_topics(rule, capacity, error_rate):\n",
    "    for criteria in rule.findall('*/topics/..'):\n",
    "        bf = pybloom_live.BloomFilter(\n",
    "            capacity=capacity,\n",
    "            error_rate=error_rate)\n",
    "        for element in criteria.findall('topics/topic'):\n",
    "            bf.add(element.text.encode('utf-8'))\n",
    "        element = criteria.find('topics')\n",
    "        element.clear()\n",
    "        digest_base64 = base64.b64encode(bf.bitarray.tobytes())\n",
    "        element.text = digest_base64.decode('utf-8')\n",
    "\n",
    "\n",
    "def obscure_partitions(rule, capacity, error_rate):\n",
    "    for criteria in rule.findall('*/partitions/..'):\n",
    "        bf = pybloom_live.BloomFilter(\n",
    "            capacity=capacity,\n",
    "            error_rate=error_rate)\n",
    "        for element in criteria.findall('partitions/partition'):\n",
    "            bf.add(element.text.encode('utf-8'))\n",
    "        element = criteria.find('partitions')\n",
    "        element.clear()\n",
    "        digest_base64 = base64.b64encode(bf.bitarray.tobytes())\n",
    "        element.text = digest_base64.decode('utf-8')\n",
    "\n",
    "\n",
    "def obscure_data_tags(rule, capacity, error_rate):\n",
    "    for criteria in rule.findall('*/data_tags/..'):\n",
    "        bf = pybloom_live.BloomFilter(\n",
    "            capacity=capacity,\n",
    "            error_rate=error_rate)\n",
    "        for element in criteria.findall('data_tags/tag'):\n",
    "            name = element.find('name')\n",
    "            value = element.find('value')\n",
    "            bf.add((name.text + ':' + value.text).encode('utf-8'))\n",
    "        element = criteria.find('data_tags')\n",
    "        element.clear()\n",
    "        digest_base64 = base64.b64encode(bf.bitarray.tobytes())\n",
    "        element.text = digest_base64.decode('utf-8')"
   ]
  },
  {
   "cell_type": "code",
   "execution_count": 3,
   "metadata": {},
   "outputs": [],
   "source": [
    "permissions_file_path = '/home/ruffsl/Desktop/keymint_ws/build/talker/permissions.xml'\n",
    "\n",
    "# import urllib.request\n",
    "# some_url = 'https://www.omg.org/spec/DDS-SECURITY/20170901/omg_shared_ca_permissions_example.xml'\n",
    "# with urllib.request.urlopen(some_url) as url:\n",
    "#     permissions_file_path = url.read()"
   ]
  },
  {
   "cell_type": "code",
   "execution_count": 4,
   "metadata": {},
   "outputs": [],
   "source": [
    "tree = obscure_permissions(permissions_file_path)"
   ]
  },
  {
   "cell_type": "code",
   "execution_count": 5,
   "metadata": {
    "scrolled": false
   },
   "outputs": [
    {
     "name": "stdout",
     "output_type": "stream",
     "text": [
      "<?xml version=\"1.0\" encoding=\"utf-8\"?>\n",
      "<dds>\n",
      "  <permissions>\n",
      "    <grant name=\"talker\">\n",
      "      <subject_name>CN=talker</subject_name>\n",
      "      <validity>\n",
      "        <not_before>2013-10-26T00:00:00</not_before>\n",
      "        <not_after>2023-10-26T22:45:30</not_after>\n",
      "      </validity>\n",
      "      <allow_rule>\n",
      "        <domains>\n",
      "          <id_range>\n",
      "            <min>0</min>\n",
      "            <max>42</max>\n",
      "          </id_range>\n",
      "        </domains>\n",
      "        <subscribe>\n",
      "          <topics>AQBAAEIMAAgAAAAIIAAmACAEQAAAECAAgAAQAAAsAACGQCAAAAAQQQABQCAAQAEEAAAIAQQAACBAAAAEgkAAJAIACRABAAEAAAAwAEQsEEAAAFIEAAAAgAAABQABEAAoBABIAAAA4BAAAIAAAACAIACACAAgCAgSMAAAAQAEAACAAgAACAAwQEAAAQJAAIAYIAEAAAAAIAEEAgIAGAIIgAABAAAMAAAiAIBAQAAoAAAgJABA</topics>\n",
      "        </subscribe>\n",
      "        <publish>\n",
      "          <topics>AABgAEIMAAgAAAAIIAAmACAEQAAAECAAgAAQAAAsAAKCQCAAAgAQQQAAQCAAQAEEAAAIAQQAACBAAAAEgkAAJAAACRABEAEAAAAwAEQkEEAAAFIEAAAAgAAABQABEAAoBABIIAAA4BAAAAAAAACAIACAABAgCAgSMAAAAQAEAACAAgBACAAgQEAAAQJAAIAYIAEAAAAAIAEEAgAAOAIIgAABAAAEAAAiAIBBQAAoAAAgJABA</topics>\n",
      "        </publish>\n",
      "      </allow_rule>\n",
      "      <default>DENY</default>\n",
      "    </grant>\n",
      "  </permissions>\n",
      "</dds>\n",
      "\n"
     ]
    }
   ],
   "source": [
    "print(beautify_xml(tree.getroot()))"
   ]
  },
  {
   "cell_type": "code",
   "execution_count": 6,
   "metadata": {},
   "outputs": [],
   "source": [
    "bf = pybloom_live.BloomFilter(capacity=100, error_rate=0.001)\n",
    "bf.bitarray = bitarray.bitarray(endian='little')\n",
    "\n",
    "root = tree.getroot()\n",
    "bf_str = root.find('permissions/grant/allow_rule/subscribe/topics').text\n",
    "bf.bitarray.frombytes(base64.decodebytes(bf_str.encode('utf-8')))"
   ]
  },
  {
   "cell_type": "code",
   "execution_count": 7,
   "metadata": {},
   "outputs": [
    {
     "data": {
      "text/plain": [
       "True"
      ]
     },
     "execution_count": 7,
     "metadata": {},
     "output_type": "execute_result"
    }
   ],
   "source": [
    "topic = 'rt/clock'.encode('utf-8')\n",
    "topic in bf"
   ]
  }
 ],
 "metadata": {
  "kernelspec": {
   "display_name": "Python 3",
   "language": "python",
   "name": "python3"
  },
  "language_info": {
   "codemirror_mode": {
    "name": "ipython",
    "version": 3
   },
   "file_extension": ".py",
   "mimetype": "text/x-python",
   "name": "python",
   "nbconvert_exporter": "python",
   "pygments_lexer": "ipython3",
   "version": "3.6.6"
  }
 },
 "nbformat": 4,
 "nbformat_minor": 2
}

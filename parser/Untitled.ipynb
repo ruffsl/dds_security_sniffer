{
 "cells": [
  {
   "cell_type": "code",
   "execution_count": 5,
   "metadata": {},
   "outputs": [
    {
     "ename": "error",
     "evalue": "compile_error",
     "output_type": "error",
     "traceback": [
      "\u001b[32mFile \"[5]\", line 1, characters 5-22:\n\u001b[31mError: Unbound module Ocamlbuild_plugin\n\u001b[36m   1: \u001b[30mopen \u001b[4mOcamlbuild_plugin\u001b[0m\u001b[30m\n\u001b[36m   2: \u001b[30mopen Command\u001b[0m\n"
     ]
    }
   ],
   "source": [
    "open Ocamlbuild_plugin\n",
    "open Command\n",
    " \n",
    "let () =\n",
    "  dispatch begin function\n",
    "  | After_rules ->\n",
    "     ocaml_lib ~extern:true ~dir:\"+lablGL\" \"lablgl\";\n",
    "     ocaml_lib ~extern:true ~dir:\"+lablGL\" \"lablglut\";\n",
    "  | _ -> ()\n",
    "  end"
   ]
  }
 ],
 "metadata": {
  "kernelspec": {
   "display_name": "OCaml 4.06.1",
   "language": "OCaml",
   "name": "ocaml-jupyter"
  },
  "language_info": {
   "codemirror_mode": "text/x-ocaml",
   "file_extension": ".ml",
   "mimetype": "text/x-ocaml",
   "name": "OCaml",
   "nbconverter_exporter": null,
   "pygments_lexer": "OCaml",
   "version": "4.06.1"
  }
 },
 "nbformat": 4,
 "nbformat_minor": 2
}

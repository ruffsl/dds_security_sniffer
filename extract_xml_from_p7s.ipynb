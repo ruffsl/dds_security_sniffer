{
 "cells": [
  {
   "cell_type": "code",
   "execution_count": 1,
   "metadata": {},
   "outputs": [],
   "source": [
    "import xml.etree.ElementTree as ET\n",
    "from comarmor.xml.utils import beautify_xml\n",
    "\n",
    "from M2Crypto import SMIME, BIO"
   ]
  },
  {
   "cell_type": "code",
   "execution_count": 2,
   "metadata": {},
   "outputs": [],
   "source": [
    "permissions_file_path = '/home/ruffsl/keymint_ws/install/talker/permissions.p7s'"
   ]
  },
  {
   "cell_type": "code",
   "execution_count": 3,
   "metadata": {
    "collapsed": true
   },
   "outputs": [
    {
     "name": "stdout",
     "output_type": "stream",
     "text": [
      "MIME-Version: 1.0\n",
      "Content-Type: multipart/signed; protocol=\"application/x-pkcs7-signature\"; micalg=\"sha-256\"; boundary=\"----F7B663E39845CF1506ADA9C62C19B2D0\"\n",
      "\n",
      "This is an S/MIME signed message\n",
      "\n",
      "------F7B663E39845CF1506ADA9C62C19B2D0\n",
      "Content-Type: text/plain\r\n",
      "\r\n",
      "<?xml version=\"1.0\" encoding=\"utf-8\"?>\r\n",
      "<dds>\r\n",
      "  <permissions>\r\n",
      "    <grant name=\"talker\">\r\n",
      "      <subject_name>CN=talker</subject_name>\r\n",
      "      <validity>\r\n",
      "        <not_before>2013-10-26T00:00:00</not_before>\r\n",
      "        <not_after>2023-10-26T22:45:30</not_after>\r\n",
      "      </validity>\r\n",
      "      <allow_rule>\r\n",
      "        <domains>\r\n",
      "          <id>0</id>\r\n",
      "        </domains>\r\n",
      "        <subscribe>\r\n",
      "          <topics>\r\n",
      "            <topic>*</topic>\r\n",
      "          </topics>\r\n",
      "        </subscribe>\r\n",
      "        <publish>\r\n",
      "          <topics>\r\n",
      "            <topic>*</topic>\r\n",
      "          </topics>\r\n",
      "        </publish>\r\n",
      "      </allow_rule>\r\n",
      "      <default>DENY</default>\r\n",
      "    </grant>\r\n",
      "  </permissions>\r\n",
      "</dds>\r\n",
      "\n",
      "------F7B663E39845CF1506ADA9C62C19B2D0\n",
      "Content-Type: application/x-pkcs7-signature; name=\"smime.p7s\"\n",
      "Content-Transfer-Encoding: base64\n",
      "Content-Disposition: attachment; filename=\"smime.p7s\"\n",
      "\n",
      "MIIDnQYJKoZIhvcNAQcCoIIDjjCCA4oCAQExDzANBglghkgBZQMEAgEFADALBgkq\n",
      "hkiG9w0BBwGgggG0MIIBsDCCAVWgAwIBAgIBATAKBggqhkjOPQQDAjBVMQswCQYD\n",
      "VQQDDAJjYTELMAkGA1UEBhMCVVMxCzAJBgNVBAgMAkNBMQ0wCwYDVQQKDARBY21l\n",
      "MR0wGwYJKoZIhvcNAQkBDA5hY21lQGFjbWUuYWNtZTAeFw0xMzEwMjYwMDAwMDBa\n",
      "Fw0yMzEwMjYyMjQ1MzBaMFUxCzAJBgNVBAMMAmNhMQswCQYDVQQGEwJVUzELMAkG\n",
      "A1UECAwCQ0ExDTALBgNVBAoMBEFjbWUxHTAbBgkqhkiG9w0BCQEMDmFjbWVAYWNt\n",
      "ZS5hY21lMFkwEwYHKoZIzj0CAQYIKoZIzj0DAQcDQgAEOfrx46rxighcCP461gHQ\n",
      "uNWQRq84DUTE4nWvq9GgSEKPzc7bgzd6918rHOKv/uROJzzGlcfkdTM3hghVL1Fa\n",
      "KaMWMBQwEgYDVR0TAQH/BAgwBgEB/wIBATAKBggqhkjOPQQDAgNJADBGAiEAzzDM\n",
      "jITX38NNju17MC9G/4Y8blV0dlv4ezXU/M4aDgcCIQCzr8dahVZID73bPOTQEaf4\n",
      "IEIq3c6S79AST7T/6ZJoMDGCAa0wggGpAgEBMFowVTELMAkGA1UEAwwCY2ExCzAJ\n",
      "BgNVBAYTAlVTMQswCQYDVQQIDAJDQTENMAsGA1UECgwEQWNtZTEdMBsGCSqGSIb3\n",
      "DQEJAQwOYWNtZUBhY21lLmFjbWUCAQEwDQYJYIZIAWUDBAIBBQCggeQwGAYJKoZI\n",
      "hvcNAQkDMQsGCSqGSIb3DQEHATAcBgkqhkiG9w0BCQUxDxcNMTgxMDMxMTgzNDEw\n",
      "WjAvBgkqhkiG9w0BCQQxIgQgl+7XS+oTYOMbGhyc4AUD7ijsDzsvZAYxwgYcsLWd\n",
      "SScweQYJKoZIhvcNAQkPMWwwajALBglghkgBZQMEASowCwYJYIZIAWUDBAEWMAsG\n",
      "CWCGSAFlAwQBAjAKBggqhkiG9w0DBzAOBggqhkiG9w0DAgICAIAwDQYIKoZIhvcN\n",
      "AwICAUAwBwYFKw4DAgcwDQYIKoZIhvcNAwICASgwCgYIKoZIzj0EAwIERjBEAiAY\n",
      "7i0okjQEybVpmhzFOVlz4m1vYD6cC28xXTlh12tWUAIgIivQnbv58seBqAhMEbEi\n",
      "DNKbmrukEu3flmRqTCN7DZo=\n",
      "\n",
      "------F7B663E39845CF1506ADA9C62C19B2D0--\n",
      "\n",
      "\n"
     ]
    }
   ],
   "source": [
    "with open(permissions_file_path, 'rb') as f:\n",
    "    permissions_file_data = f.read()\n",
    "\n",
    "print(permissions_file_data.decode('utf-8'))"
   ]
  },
  {
   "cell_type": "code",
   "execution_count": 4,
   "metadata": {},
   "outputs": [
    {
     "name": "stdout",
     "output_type": "stream",
     "text": [
      "<?xml version=\"1.0\" encoding=\"utf-8\"?>\n",
      "<dds>\n",
      "  <permissions>\n",
      "    <grant name=\"talker\">\n",
      "      <subject_name>CN=talker</subject_name>\n",
      "      <validity>\n",
      "        <not_before>2013-10-26T00:00:00</not_before>\n",
      "        <not_after>2023-10-26T22:45:30</not_after>\n",
      "      </validity>\n",
      "      <allow_rule>\n",
      "        <domains>\n",
      "          <id>0</id>\n",
      "        </domains>\n",
      "        <subscribe>\n",
      "          <topics>\n",
      "            <topic>*</topic>\n",
      "          </topics>\n",
      "        </subscribe>\n",
      "        <publish>\n",
      "          <topics>\n",
      "            <topic>*</topic>\n",
      "          </topics>\n",
      "        </publish>\n",
      "      </allow_rule>\n",
      "      <default>DENY</default>\n",
      "    </grant>\n",
      "  </permissions>\n",
      "</dds>\n",
      "\n"
     ]
    }
   ],
   "source": [
    "# Load the data\n",
    "bio = BIO.MemoryBuffer(permissions_file_data)\n",
    "p7, data = SMIME.smime_load_pkcs7_bio(bio)\n",
    "\n",
    "xml_str = data.read().decode(\"utf-8\").split(\"\\n\",2)[2]\n",
    "\n",
    "root = ET.fromstring(xml_str)\n",
    "\n",
    "print(beautify_xml(root))"
   ]
  },
  {
   "cell_type": "code",
   "execution_count": null,
   "metadata": {},
   "outputs": [],
   "source": []
  }
 ],
 "metadata": {
  "kernelspec": {
   "display_name": "Python 3",
   "language": "python",
   "name": "python3"
  },
  "language_info": {
   "codemirror_mode": {
    "name": "ipython",
    "version": 3
   },
   "file_extension": ".py",
   "mimetype": "text/x-python",
   "name": "python",
   "nbconvert_exporter": "python",
   "pygments_lexer": "ipython3",
   "version": "3.6.6"
  }
 },
 "nbformat": 4,
 "nbformat_minor": 2
}

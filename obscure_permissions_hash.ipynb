{
 "cells": [
  {
   "cell_type": "code",
   "execution_count": 1,
   "metadata": {},
   "outputs": [],
   "source": [
    "import hmac\n",
    "import hashlib\n",
    "import base64\n",
    "\n",
    "import xml.etree.ElementTree as ET\n",
    "from comarmor.xml.utils import beautify_xml"
   ]
  },
  {
   "cell_type": "code",
   "execution_count": 2,
   "metadata": {},
   "outputs": [],
   "source": [
    "def obscure_permissions(path):\n",
    "    tree = ET.parse(path)\n",
    "    root = tree.getroot()\n",
    "    permissions = root.find('permissions')\n",
    "    for grant in permissions.findall('grant'):\n",
    "        obscure_grant(grant, digestmod=hashlib.sha256)\n",
    "    return tree\n",
    "\n",
    "\n",
    "def obscure_grant(grant, digestmod):\n",
    "    subject_name = grant.find('subject_name')\n",
    "    for rule in grant.findall('*/domains/..'):\n",
    "        obscure_rule(\n",
    "            rule=rule,\n",
    "            key=subject_name.text.encode('utf-8'),\n",
    "            digestmod=digestmod)\n",
    "\n",
    "\n",
    "def obscure_rule(rule, key, digestmod):\n",
    "    obscure_topics(rule, key, digestmod)\n",
    "    obscure_partitions(rule, key, digestmod)\n",
    "    obscure_data_tags(rule, key, digestmod)\n",
    "\n",
    "\n",
    "def obscure_topics(rule, key, digestmod):\n",
    "    for element in rule.iter('topic'):\n",
    "        if not element.text.isspace():\n",
    "            element.text = encoded_digest(\n",
    "                key=key,\n",
    "                msg=element.text,\n",
    "                digestmod=digestmod)\n",
    "\n",
    "\n",
    "def obscure_partitions(rule, key, digestmod):\n",
    "    for element in rule.iter('partition'):\n",
    "        if not element.text.isspace():\n",
    "            element.text = encoded_digest(\n",
    "                key=key,\n",
    "                msg=element.text,\n",
    "                digestmod=digestmod)\n",
    "\n",
    "\n",
    "def obscure_data_tags(rule, key, digestmod):\n",
    "    for tag in ['name', 'value']:\n",
    "        for element in rule.iter(tag=tag):\n",
    "            if not element.text.isspace():\n",
    "                element.text = encoded_digest(\n",
    "                    key=key,\n",
    "                    msg=element.text,\n",
    "                    digestmod=digestmod)\n",
    "\n",
    "def encoded_digest(key, msg, digestmod):\n",
    "    digest_bytes = hmac.HMAC(\n",
    "        key=key,\n",
    "        msg=msg.encode('utf-8'),\n",
    "        digestmod=digestmod).digest()\n",
    "    digest_base64 = base64.b64encode(digest_bytes)\n",
    "    return digest_base64.decode('utf-8')"
   ]
  },
  {
   "cell_type": "code",
   "execution_count": 3,
   "metadata": {},
   "outputs": [],
   "source": [
    "permissions_file_path = '/home/ruffsl/Desktop/keymint_ws/build/talker/permissions.xml'\n",
    "\n",
    "# import urllib.request\n",
    "# some_url = 'https://www.omg.org/spec/DDS-SECURITY/20170901/omg_shared_ca_permissions_example.xml'\n",
    "# with urllib.request.urlopen(some_url) as url:\n",
    "#     permissions_file_path = url.read()"
   ]
  },
  {
   "cell_type": "code",
   "execution_count": 4,
   "metadata": {},
   "outputs": [],
   "source": [
    "tree = obscure_permissions(permissions_file_path)"
   ]
  },
  {
   "cell_type": "code",
   "execution_count": 5,
   "metadata": {
    "scrolled": false
   },
   "outputs": [
    {
     "name": "stdout",
     "output_type": "stream",
     "text": [
      "<?xml version=\"1.0\" encoding=\"utf-8\"?>\n",
      "<dds>\n",
      "  <permissions>\n",
      "    <grant name=\"talker\">\n",
      "      <subject_name>CN=talker</subject_name>\n",
      "      <validity>\n",
      "        <not_before>2013-10-26T00:00:00</not_before>\n",
      "        <not_after>2023-10-26T22:45:30</not_after>\n",
      "      </validity>\n",
      "      <allow_rule>\n",
      "        <domains>\n",
      "          <id_range>\n",
      "            <min>0</min>\n",
      "            <max>42</max>\n",
      "          </id_range>\n",
      "        </domains>\n",
      "        <subscribe>\n",
      "          <topics>\n",
      "            <topic>kdt1TIh7MLHoSSFtsV8Sen/y40Ry4Wr6OVc8QubGAeM=</topic>\n",
      "            <topic>vD4DoW8GEI2lkw19IaK9TQJH0JblZGqpzSn7mYpjg1E=</topic>\n",
      "            <topic>JrJzmUDG+omEeGMS4fv3w2I9hG1zGekmTq89+FJATY8=</topic>\n",
      "            <topic>vF86GtW36eea9mkHcrrOEpnKOIXmYcPLBsR1vhjC2/k=</topic>\n",
      "            <topic>YL7AQRBinh5jN5KwaYDbN4uAxGYq2rI5lglGlg1R3IU=</topic>\n",
      "            <topic>ZRl3CJBrF3CeCD2mtJm4BnlEsk4od4rQwcubXNXYAfo=</topic>\n",
      "            <topic>cDNPKcMY1Zr+ncWxBL8BFaIdeeroHcfRsyVbpcYlFeI=</topic>\n",
      "            <topic>TrGYu3Qm301rp/L3e2Dw8Ei12je9ei1+sKqEcQxYkmQ=</topic>\n",
      "            <topic>7ZvPL08Nhy8Q48g9eJN7KzUK/VJv07CXvl+F5gAIlpY=</topic>\n",
      "            <topic>2SgOQnBYtIMT0EJwvfOsJJprupsicr6cVxlC0ZSox74=</topic>\n",
      "            <topic>vOpxJYU3WS++1avUSggIWIM9Z1cNk68lZzaV+hkebAY=</topic>\n",
      "            <topic>NhAEeYnHgaaVxIi1kemq4lXkzKXVWu0CVj2Cs2gv54s=</topic>\n",
      "            <topic>HEIZ5PqksYS7CH/U4rf+RKBSNy7b93yhtF0StaUQ5+w=</topic>\n",
      "            <topic>4uvcvxlmlRLk2VeElqaDRUdjK2Jux7hPskYKvaCd4WA=</topic>\n",
      "          </topics>\n",
      "        </subscribe>\n",
      "        <publish>\n",
      "          <topics>\n",
      "            <topic>vD4DoW8GEI2lkw19IaK9TQJH0JblZGqpzSn7mYpjg1E=</topic>\n",
      "            <topic>CB2DXVqJCN+szjdKHTAb8KHCYDg9TGjmevgY2hlEJE8=</topic>\n",
      "            <topic>7ZvPL08Nhy8Q48g9eJN7KzUK/VJv07CXvl+F5gAIlpY=</topic>\n",
      "            <topic>2SgOQnBYtIMT0EJwvfOsJJprupsicr6cVxlC0ZSox74=</topic>\n",
      "            <topic>vOpxJYU3WS++1avUSggIWIM9Z1cNk68lZzaV+hkebAY=</topic>\n",
      "            <topic>NhAEeYnHgaaVxIi1kemq4lXkzKXVWu0CVj2Cs2gv54s=</topic>\n",
      "            <topic>HEIZ5PqksYS7CH/U4rf+RKBSNy7b93yhtF0StaUQ5+w=</topic>\n",
      "            <topic>4uvcvxlmlRLk2VeElqaDRUdjK2Jux7hPskYKvaCd4WA=</topic>\n",
      "            <topic>JrJzmUDG+omEeGMS4fv3w2I9hG1zGekmTq89+FJATY8=</topic>\n",
      "            <topic>vF86GtW36eea9mkHcrrOEpnKOIXmYcPLBsR1vhjC2/k=</topic>\n",
      "            <topic>YL7AQRBinh5jN5KwaYDbN4uAxGYq2rI5lglGlg1R3IU=</topic>\n",
      "            <topic>ZRl3CJBrF3CeCD2mtJm4BnlEsk4od4rQwcubXNXYAfo=</topic>\n",
      "            <topic>cDNPKcMY1Zr+ncWxBL8BFaIdeeroHcfRsyVbpcYlFeI=</topic>\n",
      "            <topic>TrGYu3Qm301rp/L3e2Dw8Ei12je9ei1+sKqEcQxYkmQ=</topic>\n",
      "          </topics>\n",
      "        </publish>\n",
      "      </allow_rule>\n",
      "      <default>DENY</default>\n",
      "    </grant>\n",
      "  </permissions>\n",
      "</dds>\n",
      "\n"
     ]
    }
   ],
   "source": [
    "print(beautify_xml(tree.getroot()))"
   ]
  },
  {
   "cell_type": "code",
   "execution_count": 6,
   "metadata": {},
   "outputs": [],
   "source": [
    "root = tree.getroot()\n",
    "digest_str = root.find('permissions/grant/allow_rule/subscribe/topics/topic').text\n",
    "digest_bytes = base64.decodebytes(digest_str.encode('utf-8'))"
   ]
  },
  {
   "cell_type": "code",
   "execution_count": 7,
   "metadata": {},
   "outputs": [
    {
     "data": {
      "text/plain": [
       "True"
      ]
     },
     "execution_count": 7,
     "metadata": {},
     "output_type": "execute_result"
    }
   ],
   "source": [
    "subject_name = root.find('permissions/grant/subject_name')\n",
    "topic = 'rt/clock'\n",
    "digestmod = hashlib.sha256\n",
    "test_digest_bytes = hmac.HMAC(\n",
    "    key=subject_name.text.encode('utf-8'),\n",
    "    msg=topic.encode('utf-8'),\n",
    "    digestmod=digestmod).digest()\n",
    "\n",
    "hmac.compare_digest(digest_bytes, test_digest_bytes)"
   ]
  },
  {
   "cell_type": "code",
   "execution_count": null,
   "metadata": {},
   "outputs": [],
   "source": []
  }
 ],
 "metadata": {
  "kernelspec": {
   "display_name": "Python 3",
   "language": "python",
   "name": "python3"
  },
  "language_info": {
   "codemirror_mode": {
    "name": "ipython",
    "version": 3
   },
   "file_extension": ".py",
   "mimetype": "text/x-python",
   "name": "python",
   "nbconvert_exporter": "python",
   "pygments_lexer": "ipython3",
   "version": "3.6.6"
  }
 },
 "nbformat": 4,
 "nbformat_minor": 2
}

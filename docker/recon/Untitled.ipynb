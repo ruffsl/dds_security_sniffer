{
 "cells": [
  {
   "cell_type": "code",
   "execution_count": 1,
   "metadata": {},
   "outputs": [],
   "source": [
    "from recon import ReconAgent\n",
    "from recon import base64_str_to_str"
   ]
  },
  {
   "cell_type": "code",
   "execution_count": 2,
   "metadata": {},
   "outputs": [],
   "source": [
    "recon_agent = ReconAgent(\"http://localhost:3000\")"
   ]
  },
  {
   "cell_type": "code",
   "execution_count": 3,
   "metadata": {},
   "outputs": [
    {
     "name": "stdout",
     "output_type": "stream",
     "text": [
      "<Response [200]>\n"
     ]
    }
   ],
   "source": [
    "# is_sat = recon_agent._instance(\n",
    "#     data='fun x -> ((x = 3) && (x = 1))',\n",
    "#     data_type='src')\n",
    "# if is_sat:\n",
    "#     print('woot!')\n",
    "# else:\n",
    "#     print('nope!')\n",
    "\n",
    "\n",
    "result = recon_agent.instance_reachabile(\n",
    "    perms_x='/tmp/data/talker.xml',\n",
    "    perms_y='/tmp/data/listener.xml',\n",
    "    as_bool=False)\n",
    "\n",
    "print(result)\n",
    "# rj = result.json()\n",
    "# print(rj)\n",
    "# print(base64_str_to_str(rj['sat_example']['model']['src_base64']))"
   ]
  },
  {
   "cell_type": "code",
   "execution_count": 4,
   "metadata": {},
   "outputs": [
    {
     "data": {
      "text/plain": [
       "'{\"result\":\"sat\",\"sat_example\":{\"model\":{\"language\":\"ocaml\",\"src_base64\":\"IGxldCB4ID0KICAge3N1Yk5hbWUgPSAiQ049dGFsa2VyIjsgYWN0aW9uID0gUFVCTElTSDsgZG9tYWluSWQgPSAwOwogICAgdG9waWMgPSAicnQvY2hhdHRlciI7IHBhcnRpdGlvbiA9ICIiOyBkYXRhVGFnID0gKCIiLCAiIik7CiAgICB0aW1lID0gMTM4Mjc1MjE1NH0KIGxldCB5ID0KICAge3N1Yk5hbWUgPSAiQ049bGlzdGVuZXIiOyBhY3Rpb24gPSBTVUJTQ1JJQkU7IGRvbWFpbklkID0gMDsKICAgIHRvcGljID0gInJ0L2NoYXR0ZXIiOyBwYXJ0aXRpb24gPSAiIjsgZGF0YVRhZyA9ICgiIiwgIiIpOwogICAgdGltZSA9IDEzODI3NTIxNTR9CiBsZXQgX3hfMCA9ICgpCg==\"}}}'"
      ]
     },
     "execution_count": 4,
     "metadata": {},
     "output_type": "execute_result"
    }
   ],
   "source": [
    "result.text"
   ]
  },
  {
   "cell_type": "code",
   "execution_count": 5,
   "metadata": {},
   "outputs": [
    {
     "name": "stdout",
     "output_type": "stream",
     "text": [
      " let x =\n",
      "   {subName = \"CN=talker\"; action = PUBLISH; domainId = 0;\n",
      "    topic = \"rt/chatter\"; partition = \"\"; dataTag = (\"\", \"\");\n",
      "    time = 1382752154}\n",
      " let y =\n",
      "   {subName = \"CN=listener\"; action = SUBSCRIBE; domainId = 0;\n",
      "    topic = \"rt/chatter\"; partition = \"\"; dataTag = (\"\", \"\");\n",
      "    time = 1382752154}\n",
      " let _x_0 = ()\n",
      "\n"
     ]
    }
   ],
   "source": [
    "print(base64_str_to_str(result.json()['sat_example']['model']['src_base64']))"
   ]
  },
  {
   "cell_type": "code",
   "execution_count": 12,
   "metadata": {},
   "outputs": [
    {
     "data": {
      "text/plain": [
       "<Response [422]>"
      ]
     },
     "execution_count": 12,
     "metadata": {},
     "output_type": "execute_result"
    }
   ],
   "source": [
    "result = recon_agent._instance(\n",
    "            data='test x y -> reachable x perms_x y perms_y)',\n",
    "            data_type='src',\n",
    "            as_bool=False)\n",
    "result"
   ]
  },
  {
   "cell_type": "code",
   "execution_count": 13,
   "metadata": {},
   "outputs": [
    {
     "data": {
      "text/plain": [
       "'{\"error\":\"Imandra_syntax__Imandra_parse.ImandraError(_, _)\"}'"
      ]
     },
     "execution_count": 13,
     "metadata": {},
     "output_type": "execute_result"
    }
   ],
   "source": [
    "result.text"
   ]
  },
  {
   "cell_type": "code",
   "execution_count": 3,
   "metadata": {},
   "outputs": [
    {
     "data": {
      "text/plain": [
       "<Response [200]>"
      ]
     },
     "execution_count": 3,
     "metadata": {},
     "output_type": "execute_result"
    }
   ],
   "source": [
    "recon_agent._eval(data='#redef true', as_bool=False)"
   ]
  },
  {
   "cell_type": "code",
   "execution_count": 4,
   "metadata": {},
   "outputs": [],
   "source": [
    "r = recon_agent._eval(data='#use \"reachability.ml\"', as_bool=False)"
   ]
  },
  {
   "cell_type": "code",
   "execution_count": 7,
   "metadata": {},
   "outputs": [
    {
     "data": {
      "text/plain": [
       "<Response [200]>"
      ]
     },
     "execution_count": 7,
     "metadata": {},
     "output_type": "execute_result"
    }
   ],
   "source": [
    "r"
   ]
  },
  {
   "cell_type": "code",
   "execution_count": 8,
   "metadata": {},
   "outputs": [
    {
     "data": {
      "text/plain": [
       "<Response [200]>"
      ]
     },
     "execution_count": 8,
     "metadata": {},
     "output_type": "execute_result"
    }
   ],
   "source": [
    "recon_agent._eval(data='Genpp.eval()', as_bool=False)"
   ]
  },
  {
   "cell_type": "code",
   "execution_count": 4,
   "metadata": {},
   "outputs": [
    {
     "data": {
      "text/plain": [
       "<Response [200]>"
      ]
     },
     "execution_count": 4,
     "metadata": {},
     "output_type": "execute_result"
    }
   ],
   "source": [
    "recon_agent._eval(data='''\n",
    "let reflect_permission_into_logic name value = Pconfig.(with_mode_assigned ~to_:State.Logic\n",
    "   Imandra.eval_string (Printf.sprintf \"let %s = %s\" name @@ Pp.pp_permissions value)) [@@program] \n",
    "''', as_bool=False)"
   ]
  },
  {
   "cell_type": "code",
   "execution_count": null,
   "metadata": {},
   "outputs": [],
   "source": []
  }
 ],
 "metadata": {
  "kernelspec": {
   "display_name": "Python 3",
   "language": "python",
   "name": "python3"
  },
  "language_info": {
   "codemirror_mode": {
    "name": "ipython",
    "version": 3
   },
   "file_extension": ".py",
   "mimetype": "text/x-python",
   "name": "python",
   "nbconvert_exporter": "python",
   "pygments_lexer": "ipython3",
   "version": "3.5.2"
  }
 },
 "nbformat": 4,
 "nbformat_minor": 2
}

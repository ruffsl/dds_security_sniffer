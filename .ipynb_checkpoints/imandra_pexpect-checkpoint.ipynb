{
 "cells": [
  {
   "cell_type": "code",
   "execution_count": null,
   "metadata": {},
   "outputs": [],
   "source": [
    "import subprocess\n",
    "import sys\n",
    "import pexpect"
   ]
  },
  {
   "cell_type": "code",
   "execution_count": null,
   "metadata": {},
   "outputs": [],
   "source": [
    "completed_process = subprocess.run(\n",
    "        'imandra-repl --force-kill'.split(),\n",
    "        stdout=subprocess.PIPE)\n",
    "print(completed_process.stdout.decode())"
   ]
  },
  {
   "cell_type": "code",
   "execution_count": null,
   "metadata": {},
   "outputs": [],
   "source": [
    "command = 'imandra-repl'\n",
    "child = pexpect.spawn(command=command, encoding='utf-8')\n",
    "\n",
    "\n",
    "# command = 'byobu'\n",
    "# args = 'new imandra-repl;'.split()\n",
    "# child = pexpect.spawn(command=command, args=args, encoding='utf-8')\n",
    "\n",
    "# child.logfile = sys.stdout"
   ]
  },
  {
   "cell_type": "code",
   "execution_count": null,
   "metadata": {},
   "outputs": [],
   "source": [
    "child.expect('type `#help;;` to access help')"
   ]
  },
  {
   "cell_type": "code",
   "execution_count": null,
   "metadata": {},
   "outputs": [],
   "source": [
    "print(child.before)\n",
    "print('---')\n",
    "print(child.after)"
   ]
  },
  {
   "cell_type": "code",
   "execution_count": null,
   "metadata": {},
   "outputs": [],
   "source": [
    "child.expect('#')"
   ]
  },
  {
   "cell_type": "code",
   "execution_count": null,
   "metadata": {},
   "outputs": [],
   "source": [
    "print(child.before)\n",
    "print('---')\n",
    "print(child.after)"
   ]
  },
  {
   "cell_type": "code",
   "execution_count": null,
   "metadata": {},
   "outputs": [],
   "source": [
    "context = \"\"\"let f x =\n",
    "    if x > 99 then\n",
    "        100\n",
    "    else 99\n",
    "\"\"\".replace('\\n', '\\r')\n",
    "\n",
    "constraint = \"\"\"let g x =\n",
    "   f x <= 100\n",
    "\"\"\".replace('\\n', '\\r')\n",
    "\n",
    "query = \"\"\"verify g\n",
    "\"\"\".replace('\\n', '\\r')"
   ]
  },
  {
   "cell_type": "code",
   "execution_count": null,
   "metadata": {},
   "outputs": [],
   "source": [
    "# child.flush()\n",
    "child.send(context)\n",
    "child.send(';;')\n",
    "child.sendcontrol('m')\n",
    "child.expect('val f')"
   ]
  },
  {
   "cell_type": "code",
   "execution_count": null,
   "metadata": {},
   "outputs": [],
   "source": [
    "print(child.before)\n",
    "print('---')\n",
    "print(child.after)"
   ]
  },
  {
   "cell_type": "code",
   "execution_count": null,
   "metadata": {},
   "outputs": [],
   "source": [
    "child.send(constraint)\n",
    "child.send(';;')\n",
    "child.sendcontrol('m')\n",
    "child.expect('val g')"
   ]
  },
  {
   "cell_type": "code",
   "execution_count": null,
   "metadata": {},
   "outputs": [],
   "source": [
    "print(child.before)\n",
    "print('---')\n",
    "print(child.after)"
   ]
  },
  {
   "cell_type": "code",
   "execution_count": null,
   "metadata": {},
   "outputs": [],
   "source": [
    "child.send(query)\n",
    "child.send(';;')\n",
    "child.sendcontrol('m')\n",
    "child.expect(['[✗] Conjecture refuted.','[✓] Theorem proved.'])"
   ]
  },
  {
   "cell_type": "code",
   "execution_count": null,
   "metadata": {},
   "outputs": [],
   "source": [
    "print(child.before)\n",
    "print('---')\n",
    "print(child.after)"
   ]
  },
  {
   "cell_type": "code",
   "execution_count": null,
   "metadata": {},
   "outputs": [],
   "source": [
    "child.readlines()"
   ]
  },
  {
   "cell_type": "code",
   "execution_count": null,
   "metadata": {},
   "outputs": [],
   "source": [
    "child.sendcontrol('d')\n",
    "child.kill(9)\n",
    "# child.close()\n",
    "# child.closed"
   ]
  },
  {
   "cell_type": "code",
   "execution_count": null,
   "metadata": {},
   "outputs": [],
   "source": [
    "print('is alive:', child.isalive())"
   ]
  },
  {
   "cell_type": "code",
   "execution_count": null,
   "metadata": {},
   "outputs": [],
   "source": [
    "completed_process = subprocess.run(\n",
    "        'imandra-repl --force-kill'.split(),\n",
    "        stdout=subprocess.PIPE)\n",
    "print(completed_process.stdout.decode())"
   ]
  }
 ],
 "metadata": {
  "kernelspec": {
   "display_name": "Python 3",
   "language": "python",
   "name": "python3"
  },
  "language_info": {
   "codemirror_mode": {
    "name": "ipython",
    "version": 3
   },
   "file_extension": ".py",
   "mimetype": "text/x-python",
   "name": "python",
   "nbconvert_exporter": "python",
   "pygments_lexer": "ipython3",
   "version": "3.6.6"
  }
 },
 "nbformat": 4,
 "nbformat_minor": 2
}

{
 "cells": [
  {
   "cell_type": "code",
   "execution_count": 18,
   "metadata": {},
   "outputs": [],
   "source": [
    "import pexpect\n",
    "import shlex\n",
    "import subprocess\n",
    "import sys"
   ]
  },
  {
   "cell_type": "code",
   "execution_count": 19,
   "metadata": {},
   "outputs": [],
   "source": [
    "# completed_process = subprocess.run(\n",
    "#         'imandra-repl --force-kill'.split(),\n",
    "#         stdout=subprocess.PIPE)\n",
    "# print(completed_process.stdout.decode())"
   ]
  },
  {
   "cell_type": "code",
   "execution_count": 20,
   "metadata": {},
   "outputs": [],
   "source": [
    "command = 'imandra-repl'\n",
    "args = ['-raw']\n",
    "child = pexpect.spawn(\n",
    "    command=command,\n",
    "    args=args,\n",
    "    encoding='utf-8')\n",
    "child.logfile = sys.stdout"
   ]
  },
  {
   "cell_type": "code",
   "execution_count": 21,
   "metadata": {},
   "outputs": [
    {
     "name": "stdout",
     "output_type": "stream",
     "text": [
      "            .__      /\\ .__                           .___            \n",
      "     _____  |__|    / / |__| _____ _____    ____    __| _/___________   \n",
      "     \\__  \\ |  |   / /  |  |/     \\__   \\  /    \\  / __ |\\_  __ \\__  \\  \n",
      "      / __ \\|  |  / /   |  |  Y Y  \\/ __ \\|   |  \\/ /_/ | |  | \\// __ \\_\n",
      "     (____  /__| / /    |__|__|_|  (____  /___|  /\\____ | |__|  (____  /\n",
      "          \\/     \\/              \\/     \\/     \\/      \\/            \\/ \n",
      "----------------------------------------------------------------------------\n",
      " Imandra Commander v1.0.3 - (c)Copyright Aesthetic Integration Ltd, 2014-18\n",
      "----------------------------------------------------------------------------\n",
      "type `#help;;` to access help\n",
      "define pre-builtins..."
     ]
    },
    {
     "data": {
      "text/plain": [
       "0"
      ]
     },
     "execution_count": 21,
     "metadata": {},
     "output_type": "execute_result"
    }
   ],
   "source": [
    "child.expect('type `#help;;` to access help')"
   ]
  },
  {
   "cell_type": "code",
   "execution_count": 22,
   "metadata": {},
   "outputs": [
    {
     "name": "stdout",
     "output_type": "stream",
     "text": [
      "            .__      /\\ .__                           .___            \n",
      "     _____  |__|    / / |__| _____ _____    ____    __| _/___________   \n",
      "     \\__  \\ |  |   / /  |  |/     \\__   \\  /    \\  / __ |\\_  __ \\__  \\  \n",
      "      / __ \\|  |  / /   |  |  Y Y  \\/ __ \\|   |  \\/ /_/ | |  | \\// __ \\_\n",
      "     (____  /__| / /    |__|__|_|  (____  /___|  /\\____ | |__|  (____  /\n",
      "          \\/     \\/              \\/     \\/     \\/      \\/            \\/ \n",
      "----------------------------------------------------------------------------\n",
      " Imandra Commander v1.0.3 - (c)Copyright Aesthetic Integration Ltd, 2014-18\n",
      "----------------------------------------------------------------------------\n",
      "\n",
      "---\n",
      "type `#help;;` to access help\n"
     ]
    }
   ],
   "source": [
    "print(child.before)\n",
    "print('---')\n",
    "print(child.after)"
   ]
  },
  {
   "cell_type": "code",
   "execution_count": 23,
   "metadata": {},
   "outputs": [
    {
     "name": "stdout",
     "output_type": "stream",
     "text": [
      "# "
     ]
    },
    {
     "data": {
      "text/plain": [
       "0"
      ]
     },
     "execution_count": 23,
     "metadata": {},
     "output_type": "execute_result"
    }
   ],
   "source": [
    "child.expect('#')"
   ]
  },
  {
   "cell_type": "code",
   "execution_count": 24,
   "metadata": {},
   "outputs": [
    {
     "name": "stdout",
     "output_type": "stream",
     "text": [
      "\n",
      "\u001b[2K\n",
      "---\n",
      "#\n"
     ]
    }
   ],
   "source": [
    "print(child.before)\n",
    "print('---')\n",
    "print(child.after)"
   ]
  },
  {
   "cell_type": "code",
   "execution_count": 25,
   "metadata": {},
   "outputs": [],
   "source": [
    "context = \"\"\"let f x =\n",
    "    if x > 99 then\n",
    "        100\n",
    "    else 99\n",
    "\"\"\".replace('\\n', '\\r')\n",
    "\n",
    "constraint = \"\"\"let g x =\n",
    "   f x <= 100\n",
    "\"\"\".replace('\\n', '\\r')\n",
    "\n",
    "query = \"\"\"verify g\n",
    "\"\"\".replace('\\n', '\\r')"
   ]
  },
  {
   "cell_type": "code",
   "execution_count": 26,
   "metadata": {},
   "outputs": [
    {
     "name": "stdout",
     "output_type": "stream",
     "text": []
    },
    {
     "name": "stdout",
     "output_type": "stream",
     "text": [
      "let f x =\n",
      "    if x > 99 then\n",
      "        100\n",
      "    else 99\n",
      "        ;;\n",
      "val f : int -> Z.t = <fun>\n"
     ]
    },
    {
     "data": {
      "text/plain": [
       "0"
      ]
     },
     "execution_count": 26,
     "metadata": {},
     "output_type": "execute_result"
    }
   ],
   "source": [
    "# child.flush()\n",
    "child.send(context)\n",
    "child.send(';;')\n",
    "child.sendcontrol('m')\n",
    "child.expect('val f')"
   ]
  },
  {
   "cell_type": "code",
   "execution_count": 27,
   "metadata": {},
   "outputs": [
    {
     "name": "stdout",
     "output_type": "stream",
     "text": [
      " let f x =\n",
      "    if x > 99 then\n",
      "        100\n",
      "    else 99\n",
      "        ;;\n",
      "\n",
      "---\n",
      "val f\n"
     ]
    }
   ],
   "source": [
    "print(child.before)\n",
    "print('---')\n",
    "print(child.after)"
   ]
  },
  {
   "cell_type": "code",
   "execution_count": 28,
   "metadata": {},
   "outputs": [
    {
     "name": "stdout",
     "output_type": "stream",
     "text": []
    },
    {
     "name": "stdout",
     "output_type": "stream",
     "text": [
      "let g x =\n",
      "   f x <= 100\n",
      ";;\n",
      "#     val g : int -> bool = <fun>\n"
     ]
    },
    {
     "data": {
      "text/plain": [
       "0"
      ]
     },
     "execution_count": 28,
     "metadata": {},
     "output_type": "execute_result"
    }
   ],
   "source": [
    "child.send(constraint)\n",
    "child.send(';;')\n",
    "child.sendcontrol('m')\n",
    "child.expect('val g')"
   ]
  },
  {
   "cell_type": "code",
   "execution_count": 29,
   "metadata": {},
   "outputs": [
    {
     "name": "stdout",
     "output_type": "stream",
     "text": [
      " : int -> Z.t = <fun>\n",
      "let g x =\n",
      "   f x <= 100\n",
      ";;\n",
      "#     \n",
      "---\n",
      "val g\n"
     ]
    }
   ],
   "source": [
    "print(child.before)\n",
    "print('---')\n",
    "print(child.after)"
   ]
  },
  {
   "cell_type": "code",
   "execution_count": 30,
   "metadata": {},
   "outputs": [
    {
     "name": "stdout",
     "output_type": "stream",
     "text": []
    },
    {
     "name": "stdout",
     "output_type": "stream",
     "text": [
      "# verify g\n",
      "  ;;\n",
      "- : int -> bool = <fun>\n",
      "\u001b[32;1m[✓]\u001b[0m Theorem proved.\n",
      "# "
     ]
    },
    {
     "data": {
      "text/plain": [
       "1"
      ]
     },
     "execution_count": 30,
     "metadata": {},
     "output_type": "execute_result"
    }
   ],
   "source": [
    "child.send(query)\n",
    "child.send(';;')\n",
    "child.sendcontrol('m')\n",
    "child.expect(['[✗].*','[✓].*'])"
   ]
  },
  {
   "cell_type": "code",
   "execution_count": 31,
   "metadata": {},
   "outputs": [
    {
     "name": "stdout",
     "output_type": "stream",
     "text": [
      " : int -> bool = <fun>\n",
      "# verify g\n",
      "  ;;\n",
      "- : int -> bool = <fun>\n",
      "\u001b[32;1m[\n",
      "---\n",
      "✓]\u001b[0m Theorem proved.\n",
      "# \n"
     ]
    }
   ],
   "source": [
    "print(child.before)\n",
    "print('---')\n",
    "print(child.after)"
   ]
  },
  {
   "cell_type": "code",
   "execution_count": 32,
   "metadata": {},
   "outputs": [
    {
     "name": "stdout",
     "output_type": "stream",
     "text": [
      "\u0004"
     ]
    }
   ],
   "source": [
    "child.sendcontrol('d')\n",
    "child.kill(9)\n",
    "# child.close()\n",
    "# child.closed"
   ]
  },
  {
   "cell_type": "code",
   "execution_count": 33,
   "metadata": {},
   "outputs": [
    {
     "name": "stdout",
     "output_type": "stream",
     "text": [
      "is alive: False\n"
     ]
    }
   ],
   "source": [
    "print('is alive:', child.isalive())"
   ]
  },
  {
   "cell_type": "code",
   "execution_count": 34,
   "metadata": {},
   "outputs": [],
   "source": [
    "# completed_process = subprocess.run(\n",
    "#         'imandra-repl --force-kill'.split(),\n",
    "#         stdout=subprocess.PIPE)\n",
    "# print(completed_process.stdout.decode())"
   ]
  },
  {
   "cell_type": "code",
   "execution_count": null,
   "metadata": {},
   "outputs": [],
   "source": []
  }
 ],
 "metadata": {
  "kernelspec": {
   "display_name": "Python 3",
   "language": "python",
   "name": "python3"
  },
  "language_info": {
   "codemirror_mode": {
    "name": "ipython",
    "version": 3
   },
   "file_extension": ".py",
   "mimetype": "text/x-python",
   "name": "python",
   "nbconvert_exporter": "python",
   "pygments_lexer": "ipython3",
   "version": "3.6.6"
  }
 },
 "nbformat": 4,
 "nbformat_minor": 2
}
